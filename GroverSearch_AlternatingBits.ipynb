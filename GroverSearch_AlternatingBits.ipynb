{
 "cells": [
  {
   "cell_type": "markdown",
   "metadata": {},
   "source": [
    "# Finding Alternating Bit Strings Using Grover's Search Algorithm \n",
    "\n",
    "In this example we explore Grover's search algorithm, one of the most famous quantum algorithms. Grover's algorithm is an algorithm for solving the following search problem. Given a function $f$ which takes an N-bit input and returns a 1-bit output, 0 or 1, find any input $x_0$ for which $f(x_0) = 1$.\n",
    "\n",
    "We can represent this problem on a quantum computer by defining an oracle $G$ that acts on our state as follows:\n",
    "$$\n",
    "G|x\\rangle =  \\begin{cases} \n",
    "      -|x\\rangle & \\text{if } |x\\rangle = \\text{a state for which }f(x) = 1\\\\\n",
    "       |x\\rangle & \\text{otherwise}\n",
    "   \\end{cases}\\\\\n",
    "$$\n",
    "\n",
    "Grover's algorithm allows us to find a value $x$ for which $f(x) = 1$ with only $O(\\sqrt{\\frac{2^N}{k}})$ applications of $G$, where $k$ is the number of $x$'s for which $f(x) = 1$.  "
   ]
  },
  {
   "cell_type": "markdown",
   "metadata": {},
   "source": [
    "#### Run these cells before beginning to import necessary packages.\n",
    "This cell may take a minute or more to complete. Importing qsharp triggers a sequence of actions which allow us to compile and run Q# code in this notebook."
   ]
  },
  {
   "cell_type": "code",
   "execution_count": null,
   "metadata": {},
   "outputs": [],
   "source": [
    "import qsharp\n",
    "from qsharp import azure\n",
    "import matplotlib.pyplot as plt"
   ]
  },
  {
   "cell_type": "code",
   "execution_count": null,
   "metadata": {},
   "outputs": [],
   "source": [
    "%%qsharp \n",
    "open Microsoft.Quantum.Diagnostics; \n",
    "open Microsoft.Quantum.Canon;\n",
    "open Microsoft.Quantum.Arrays;\n",
    "open Microsoft.Quantum.Random;"
   ]
  },
  {
   "cell_type": "markdown",
   "metadata": {},
   "source": [
    "## Write the code\n",
    "\n",
    "First we will define an oracle. In order to define an oracle, we need to know how to implement the function $f$. Grover's algorithm is suitable for problems in which defining $f$ is easy, while finding a value $x$ which satisfies the equation $f(x) = 1$ is not. One example would be a Sudoku puzzle, where it is easier to check whether a grid filled with digits is an answer than it is to find the answer.\n",
    "\n",
    "For this example we will consider the function $f(x)$ which is equal to 1 when $x$ is a bit string of length $N$ in which no pair of adjacent bits have the same value. If you think about this, it becomes clear that the solutions to $f(x) = 1$ are bit strings which alternate between 0 and 1. This means that for any $N$ there will be two possible solutions, one starting with 0 and one starting with 1, so the number of solutions $k = 2$.\n",
    "\n",
    "Our $f$ will look like this:\n",
    "$$\n",
    "f(x) =  \\begin{cases} \n",
    "      1 & x = 0101\\text{... or }1010\\text{...}\\\\\n",
    "      0 & \\text{otherwise}\n",
    "   \\end{cases}\\\\\n",
    "$$\n",
    "However, our oracle will not mark these two states explicitly based on our ability to find the solution classically. Instead, it will use binary logic to check the condition by verifying that each pair of adjacent bits has different values. In this way we can build our oracle without actually knowing what the target states will be."
   ]
  },
  {
   "cell_type": "code",
   "execution_count": null,
   "metadata": {},
   "outputs": [],
   "source": [
    "%%qsharp\n",
    "/// # Summary\n",
    "/// A phase oracle which applies a negative phase to \n",
    "/// the states where no adjacent bits are equal.\n",
    "///\n",
    "/// # Input \n",
    "/// ## qs \n",
    "/// The qubits the oracle is applied to. \n",
    "\n",
    "operation AlternatingBitStringOracle(qs : Qubit[]) : Unit { \n",
    "    // We first apply a CNOT gate between each pair of adjacent qubits\n",
    "    // to calculate qs[i] XOR qs[i-1] and store the result in qs[i-1].\n",
    "    // Next, we apply a CZ to the output of all of these XOR operations\n",
    "    // flipping the phase of the state where each XOR evaluates to 1.\n",
    "    // Then we uncompute the previous CNOT gates to return the phase\n",
    "    // to the target states. \n",
    "\n",
    "    // The within-apply statement does 3 things:\n",
    "    // 1. Performs the operations in the within block.\n",
    "    // 2. Performs the operations in the apply block.\n",
    "    // 3. Calculates and performs the adjoint of the within block.\n",
    "    within {\n",
    "        for i in 1 .. Length(qs) - 1 {\n",
    "            CNOT(qs[i], qs[i - 1]);\n",
    "        }\n",
    "    } apply {\n",
    "        Controlled Z(qs[0 .. Length(qs) - 3], qs[Length(qs) - 2]);\n",
    "    }\n",
    "}"
   ]
  },
  {
   "cell_type": "markdown",
   "metadata": {},
   "source": [
    "Next, we need to define Grover's diffusion operator. A lot has been written about the reasoning behind the diffusion operator; [this article](https://cnot.io/quantum_algorithms/grover/grovers_algorithm.html) does a great job of explaining it.\n",
    "\n"
   ]
  },
  {
   "cell_type": "code",
   "execution_count": null,
   "metadata": {},
   "outputs": [],
   "source": [
    "%%qsharp\n",
    "/// # Summary\n",
    "/// Grover's diffusion operator.\n",
    "///\n",
    "/// # Input\n",
    "/// ## qs\n",
    "/// The qubit array the diffusion operator is applied to.\n",
    "\n",
    "operation Diffusion(qs : Qubit[]) : Unit {\n",
    "    within {\n",
    "        ApplyToEachA(H, qs);\n",
    "        ApplyToEachA(X, qs);\n",
    "    } apply {\n",
    "        // Most gives us every array element except the last.\n",
    "        // Tail gives us the last array element.\n",
    "        Controlled Z(Most(qs), Tail(qs));\n",
    "    }\n",
    "}"
   ]
  },
  {
   "cell_type": "markdown",
   "metadata": {},
   "source": [
    "Lastly, let us define our top-level operation. In it we will allocate the qubits we will use, apply the operations `AlternatingBitStringOracle` and `Diffusion` a specified number of times, and measure the qubits to read out the solution. Note that instead of calculating the optimal number of iterations during runtime we set things up so we can control the number when calling the operation."
   ]
  },
  {
   "cell_type": "code",
   "execution_count": null,
   "metadata": {},
   "outputs": [],
   "source": [
    "%%qsharp\n",
    "/// # Summary\n",
    "/// The top-level operation for this implementation. \n",
    "/// Applies the oracle and the diffusion operator multiple times.\n",
    "///\n",
    "/// # Input\n",
    "/// ## iterations\n",
    "/// The number of times to apply the oracle and the diffusion operator.\n",
    "/// ## N \n",
    "/// The number of bits in the bit strings. Our search space size is then 2^N.\n",
    "///\n",
    "/// # Output\n",
    "/// A Result[] type which contains the measurement result of each\n",
    "/// qubit that was allocated. \n",
    "\n",
    "operation Grovers(iterations : Int, N : Int) : Result[] {\n",
    "    use qs = Qubit[N];\n",
    "    ApplyToEach(H, qs);\n",
    "\n",
    "    for i in 1 .. iterations {\n",
    "        AlternatingBitStringOracle(qs);\n",
    "        Diffusion(qs);\n",
    "    }\n",
    "    return ForEach(M, qs);\n",
    "}"
   ]
  },
  {
   "cell_type": "markdown",
   "metadata": {},
   "source": [
    "## Run local simulation\n",
    "\n",
    "Now you can run this cell to see whether our measurement produced a state that is a solution to our problem. "
   ]
  },
  {
   "cell_type": "code",
   "execution_count": null,
   "metadata": {},
   "outputs": [],
   "source": [
    "Grovers.simulate(iterations=1, N=3)"
   ]
  },
  {
   "cell_type": "markdown",
   "metadata": {},
   "source": [
    "## Run on Azure Quantum cloud targets\n",
    "\n",
    "Connect to Azure workspace."
   ]
  },
  {
   "cell_type": "code",
   "execution_count": null,
   "metadata": {},
   "outputs": [],
   "source": [
    "qsharp.azure.connect(\n",
    "   resourceId=\"\",\n",
    "   location=\"\")"
   ]
  },
  {
   "cell_type": "markdown",
   "metadata": {},
   "source": [
    "Set the target to ionq.simulator, ionq.qpu, or ionq.qpu-aria-1, depending on which target you want to use."
   ]
  },
  {
   "cell_type": "code",
   "execution_count": null,
   "metadata": {},
   "outputs": [],
   "source": [
    "qsharp.azure.target(\"ionq.simulator\")"
   ]
  },
  {
   "cell_type": "code",
   "execution_count": null,
   "metadata": {},
   "outputs": [],
   "source": [
    "N = 3\n",
    "iterations = 1\n",
    "qsharp.azure.submit(Grovers, iterations=iterations, N=N, shots=500, jobName=\"Grover's iterations={}, N={}\".format(iterations, N))"
   ]
  },
  {
   "cell_type": "code",
   "execution_count": null,
   "metadata": {},
   "outputs": [],
   "source": [
    "qsharp.azure.status()"
   ]
  },
  {
   "cell_type": "code",
   "execution_count": null,
   "metadata": {},
   "outputs": [],
   "source": [
    "output = qsharp.azure.output(jobId=\"\")"
   ]
  },
  {
   "cell_type": "code",
   "execution_count": null,
   "metadata": {},
   "outputs": [],
   "source": [
    "def plot_job_results(id, iter, sim):\n",
    "    output = qsharp.azure.output(id)\n",
    "    print(output)\n",
    "    keys = list(output.keys())\n",
    "    keys = [key.replace(\",\", \"\") for key in keys]\n",
    "    keyLen = len(keys[0]) - 2\n",
    "    firstBitString = \"\"\n",
    "    secondBitString = \"\"\n",
    "    for i in range(keyLen):\n",
    "        firstBitString += str((i+1)%2)\n",
    "        secondBitString += str(i%2)\n",
    "    secondBitString = \"[{}]\".format(secondBitString)\n",
    "    firstBitString = \"[{}]\".format(firstBitString)\n",
    "    outputFreq = list(output.values())\n",
    "\n",
    "    firstBitStringLoc = min(keys.index(firstBitString), keys.index(secondBitString))\n",
    "    secondBitStringLoc = max(keys.index(firstBitString), keys.index(secondBitString))\n",
    "\n",
    "    plt.bar(keys[0:firstBitStringLoc], outputFreq[0:firstBitStringLoc], color = \"blue\")\n",
    "    plt.bar(keys[firstBitStringLoc], outputFreq[firstBitStringLoc], color = \"red\")\n",
    "    plt.bar(keys[firstBitStringLoc+1:secondBitStringLoc], outputFreq[firstBitStringLoc+1:secondBitStringLoc], color = \"blue\")\n",
    "    plt.bar(keys[secondBitStringLoc], outputFreq[secondBitStringLoc], color = \"red\")\n",
    "    plt.bar(keys[secondBitStringLoc+1:], outputFreq[secondBitStringLoc+1:], color = \"blue\")\n",
    "    plt.xticks(rotation=90)\n",
    "    plt.title(\"{} results for N = {} iter = {}\".format(sim, keyLen, iter))\n",
    "    plt.show()"
   ]
  },
  {
   "cell_type": "code",
   "execution_count": null,
   "metadata": {},
   "outputs": [],
   "source": [
    "plot_job_results(\"\", iterations, \"(target name)\")"
   ]
  },
  {
   "cell_type": "markdown",
   "metadata": {},
   "source": [
    "> `qsharp.azure.output` defaults to fetching the results of the last submitted job. \n",
    "We recommend submitting all hardware jobs as soon as you can, since it can take a while for them to finish. \n",
    "You can then get the output for each of them by calling `qsharp.azure.output(jobId=\"job id\")`. \n",
    "The job ids can be found in your Azure Quantum Workspace in Operations $\\rightarrow$ Job management."
   ]
  }
 ],
 "metadata": {
  "kernelspec": {
   "display_name": "Python 3",
   "language": "python",
   "name": "python3"
  },
  "language_info": {
   "codemirror_mode": {
    "name": "ipython",
    "version": 3
   },
   "file_extension": ".py",
   "mimetype": "text/x-python",
   "name": "python",
   "nbconvert_exporter": "python",
   "pygments_lexer": "ipython3",
   "version": "3.7.3"
  },
  "vscode": {
   "interpreter": {
    "hash": "1cde0123ad091c17bb3dac1610a1b00e4cc7ccaccc904fd2e4f3100417f26ae7"
   }
  }
 },
 "nbformat": 4,
 "nbformat_minor": 2
}
